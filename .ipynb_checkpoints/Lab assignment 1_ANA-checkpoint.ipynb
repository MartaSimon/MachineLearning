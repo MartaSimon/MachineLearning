{
 "cells": [
  {
   "cell_type": "markdown",
   "id": "c54d64d7",
   "metadata": {},
   "source": [
    "# Lab assignment 1: Classification\n",
    "+ Ana Rotella Fernandez\n",
    "+ Marta Simón Pinacho\n",
    "+ Ana Miguélez Martínez"
   ]
  },
  {
   "cell_type": "code",
   "execution_count": 3,
   "id": "570c8ac4",
   "metadata": {},
   "outputs": [],
   "source": [
    "import pandas as pd\n",
    "import numpy as np\n",
    "import matplotlib.pyplot as plt\n",
    "import seaborn as sns"
   ]
  },
  {
   "cell_type": "markdown",
   "id": "0fafad89",
   "metadata": {},
   "source": [
    "### 1. Exploratory Data Analysis (EDA)"
   ]
  },
  {
   "cell_type": "markdown",
   "id": "dce5e970",
   "metadata": {},
   "source": [
    "#### STEP 1: IMPORT DATASET"
   ]
  },
  {
   "cell_type": "code",
   "execution_count": 4,
   "id": "6fbee09c",
   "metadata": {},
   "outputs": [
    {
     "data": {
      "text/html": [
       "<div>\n",
       "<style scoped>\n",
       "    .dataframe tbody tr th:only-of-type {\n",
       "        vertical-align: middle;\n",
       "    }\n",
       "\n",
       "    .dataframe tbody tr th {\n",
       "        vertical-align: top;\n",
       "    }\n",
       "\n",
       "    .dataframe thead th {\n",
       "        text-align: right;\n",
       "    }\n",
       "</style>\n",
       "<table border=\"1\" class=\"dataframe\">\n",
       "  <thead>\n",
       "    <tr style=\"text-align: right;\">\n",
       "      <th></th>\n",
       "      <th>PREGNANT</th>\n",
       "      <th>GLUCOSE</th>\n",
       "      <th>BLOODPRESS</th>\n",
       "      <th>SKINTHICKNESS</th>\n",
       "      <th>INSULIN</th>\n",
       "      <th>BODYMASSINDEX</th>\n",
       "      <th>PEDIGREEFUNC</th>\n",
       "      <th>AGE</th>\n",
       "      <th>DIABETES</th>\n",
       "    </tr>\n",
       "  </thead>\n",
       "  <tbody>\n",
       "    <tr>\n",
       "      <th>0</th>\n",
       "      <td>6</td>\n",
       "      <td>148</td>\n",
       "      <td>72</td>\n",
       "      <td>35</td>\n",
       "      <td>0</td>\n",
       "      <td>33.6</td>\n",
       "      <td>0.627</td>\n",
       "      <td>50</td>\n",
       "      <td>1</td>\n",
       "    </tr>\n",
       "    <tr>\n",
       "      <th>1</th>\n",
       "      <td>1</td>\n",
       "      <td>85</td>\n",
       "      <td>66</td>\n",
       "      <td>29</td>\n",
       "      <td>0</td>\n",
       "      <td>26.6</td>\n",
       "      <td>0.351</td>\n",
       "      <td>31</td>\n",
       "      <td>0</td>\n",
       "    </tr>\n",
       "    <tr>\n",
       "      <th>2</th>\n",
       "      <td>8</td>\n",
       "      <td>183</td>\n",
       "      <td>64</td>\n",
       "      <td>0</td>\n",
       "      <td>0</td>\n",
       "      <td>23.3</td>\n",
       "      <td>0.672</td>\n",
       "      <td>32</td>\n",
       "      <td>1</td>\n",
       "    </tr>\n",
       "    <tr>\n",
       "      <th>3</th>\n",
       "      <td>1</td>\n",
       "      <td>89</td>\n",
       "      <td>66</td>\n",
       "      <td>23</td>\n",
       "      <td>94</td>\n",
       "      <td>28.1</td>\n",
       "      <td>0.167</td>\n",
       "      <td>21</td>\n",
       "      <td>0</td>\n",
       "    </tr>\n",
       "    <tr>\n",
       "      <th>4</th>\n",
       "      <td>0</td>\n",
       "      <td>137</td>\n",
       "      <td>40</td>\n",
       "      <td>35</td>\n",
       "      <td>168</td>\n",
       "      <td>43.1</td>\n",
       "      <td>2.288</td>\n",
       "      <td>33</td>\n",
       "      <td>1</td>\n",
       "    </tr>\n",
       "    <tr>\n",
       "      <th>...</th>\n",
       "      <td>...</td>\n",
       "      <td>...</td>\n",
       "      <td>...</td>\n",
       "      <td>...</td>\n",
       "      <td>...</td>\n",
       "      <td>...</td>\n",
       "      <td>...</td>\n",
       "      <td>...</td>\n",
       "      <td>...</td>\n",
       "    </tr>\n",
       "    <tr>\n",
       "      <th>763</th>\n",
       "      <td>10</td>\n",
       "      <td>101</td>\n",
       "      <td>76</td>\n",
       "      <td>48</td>\n",
       "      <td>180</td>\n",
       "      <td>32.9</td>\n",
       "      <td>0.171</td>\n",
       "      <td>63</td>\n",
       "      <td>0</td>\n",
       "    </tr>\n",
       "    <tr>\n",
       "      <th>764</th>\n",
       "      <td>2</td>\n",
       "      <td>122</td>\n",
       "      <td>70</td>\n",
       "      <td>27</td>\n",
       "      <td>0</td>\n",
       "      <td>36.8</td>\n",
       "      <td>0.340</td>\n",
       "      <td>27</td>\n",
       "      <td>0</td>\n",
       "    </tr>\n",
       "    <tr>\n",
       "      <th>765</th>\n",
       "      <td>5</td>\n",
       "      <td>121</td>\n",
       "      <td>72</td>\n",
       "      <td>23</td>\n",
       "      <td>112</td>\n",
       "      <td>26.2</td>\n",
       "      <td>0.245</td>\n",
       "      <td>30</td>\n",
       "      <td>0</td>\n",
       "    </tr>\n",
       "    <tr>\n",
       "      <th>766</th>\n",
       "      <td>1</td>\n",
       "      <td>126</td>\n",
       "      <td>60</td>\n",
       "      <td>0</td>\n",
       "      <td>0</td>\n",
       "      <td>30.1</td>\n",
       "      <td>0.349</td>\n",
       "      <td>47</td>\n",
       "      <td>1</td>\n",
       "    </tr>\n",
       "    <tr>\n",
       "      <th>767</th>\n",
       "      <td>1</td>\n",
       "      <td>93</td>\n",
       "      <td>70</td>\n",
       "      <td>31</td>\n",
       "      <td>0</td>\n",
       "      <td>30.4</td>\n",
       "      <td>0.315</td>\n",
       "      <td>23</td>\n",
       "      <td>0</td>\n",
       "    </tr>\n",
       "  </tbody>\n",
       "</table>\n",
       "<p>768 rows × 9 columns</p>\n",
       "</div>"
      ],
      "text/plain": [
       "     PREGNANT  GLUCOSE  BLOODPRESS  SKINTHICKNESS  INSULIN  BODYMASSINDEX  \\\n",
       "0           6      148          72             35        0           33.6   \n",
       "1           1       85          66             29        0           26.6   \n",
       "2           8      183          64              0        0           23.3   \n",
       "3           1       89          66             23       94           28.1   \n",
       "4           0      137          40             35      168           43.1   \n",
       "..        ...      ...         ...            ...      ...            ...   \n",
       "763        10      101          76             48      180           32.9   \n",
       "764         2      122          70             27        0           36.8   \n",
       "765         5      121          72             23      112           26.2   \n",
       "766         1      126          60              0        0           30.1   \n",
       "767         1       93          70             31        0           30.4   \n",
       "\n",
       "     PEDIGREEFUNC  AGE  DIABETES  \n",
       "0           0.627   50         1  \n",
       "1           0.351   31         0  \n",
       "2           0.672   32         1  \n",
       "3           0.167   21         0  \n",
       "4           2.288   33         1  \n",
       "..            ...  ...       ...  \n",
       "763         0.171   63         0  \n",
       "764         0.340   27         0  \n",
       "765         0.245   30         0  \n",
       "766         0.349   47         1  \n",
       "767         0.315   23         0  \n",
       "\n",
       "[768 rows x 9 columns]"
      ]
     },
     "execution_count": 4,
     "metadata": {},
     "output_type": "execute_result"
    }
   ],
   "source": [
    "### Load file --------------------------------------------\n",
    "diabetes = pd.read_csv('Diabetes.csv', sep = \";\")\n",
    "diabetes"
   ]
  },
  {
   "cell_type": "markdown",
   "id": "54002960",
   "metadata": {},
   "source": [
    "#### STEP 2: CHECK OUT THE MISSING VALUES"
   ]
  },
  {
   "cell_type": "code",
   "execution_count": 8,
   "id": "20415c07",
   "metadata": {},
   "outputs": [
    {
     "name": "stdout",
     "output_type": "stream",
     "text": [
      "<class 'pandas.core.frame.DataFrame'>\n",
      "RangeIndex: 768 entries, 0 to 767\n",
      "Data columns (total 9 columns):\n",
      " #   Column         Non-Null Count  Dtype  \n",
      "---  ------         --------------  -----  \n",
      " 0   PREGNANT       768 non-null    int64  \n",
      " 1   GLUCOSE        768 non-null    int64  \n",
      " 2   BLOODPRESS     768 non-null    int64  \n",
      " 3   SKINTHICKNESS  768 non-null    int64  \n",
      " 4   INSULIN        768 non-null    int64  \n",
      " 5   BODYMASSINDEX  768 non-null    float64\n",
      " 6   PEDIGREEFUNC   768 non-null    float64\n",
      " 7   AGE            768 non-null    int64  \n",
      " 8   DIABETES       768 non-null    int64  \n",
      "dtypes: float64(2), int64(7)\n",
      "memory usage: 54.1 KB\n"
     ]
    }
   ],
   "source": [
    "### Info and type of variables & missing, veo cuantos valores non-null para todos los variables\n",
    "diabetes.info()"
   ]
  },
  {
   "cell_type": "code",
   "execution_count": 10,
   "id": "f18d1775",
   "metadata": {},
   "outputs": [
    {
     "name": "stdout",
     "output_type": "stream",
     "text": [
      "Number of NAs in dataframe: 0\n"
     ]
    },
    {
     "data": {
      "text/plain": [
       "PREGNANT         False\n",
       "GLUCOSE          False\n",
       "BLOODPRESS       False\n",
       "SKINTHICKNESS    False\n",
       "INSULIN          False\n",
       "BODYMASSINDEX    False\n",
       "PEDIGREEFUNC     False\n",
       "AGE              False\n",
       "DIABETES         False\n",
       "dtype: bool"
      ]
     },
     "execution_count": 10,
     "metadata": {},
     "output_type": "execute_result"
    }
   ],
   "source": [
    "# How many NAs?\n",
    "print('Number of NAs in dataframe:',diabetes.isnull().values.sum()) \n",
    "diabetes.isnull().any() # Are there any NAs? No,there are not any NAs"
   ]
  },
  {
   "cell_type": "markdown",
   "id": "b6e07c20",
   "metadata": {},
   "source": [
    "#### STEP 3: PLOT THE DATA AND CHECK OUT FOR OUTLIERS"
   ]
  },
  {
   "cell_type": "code",
   "execution_count": 6,
   "id": "80333c86",
   "metadata": {},
   "outputs": [
    {
     "data": {
      "text/html": [
       "<div>\n",
       "<style scoped>\n",
       "    .dataframe tbody tr th:only-of-type {\n",
       "        vertical-align: middle;\n",
       "    }\n",
       "\n",
       "    .dataframe tbody tr th {\n",
       "        vertical-align: top;\n",
       "    }\n",
       "\n",
       "    .dataframe thead th {\n",
       "        text-align: right;\n",
       "    }\n",
       "</style>\n",
       "<table border=\"1\" class=\"dataframe\">\n",
       "  <thead>\n",
       "    <tr style=\"text-align: right;\">\n",
       "      <th></th>\n",
       "      <th>PREGNANT</th>\n",
       "      <th>GLUCOSE</th>\n",
       "      <th>BLOODPRESS</th>\n",
       "      <th>SKINTHICKNESS</th>\n",
       "      <th>INSULIN</th>\n",
       "      <th>BODYMASSINDEX</th>\n",
       "      <th>PEDIGREEFUNC</th>\n",
       "      <th>AGE</th>\n",
       "      <th>DIABETES</th>\n",
       "    </tr>\n",
       "  </thead>\n",
       "  <tbody>\n",
       "    <tr>\n",
       "      <th>count</th>\n",
       "      <td>768.000000</td>\n",
       "      <td>768.000000</td>\n",
       "      <td>768.000000</td>\n",
       "      <td>768.000000</td>\n",
       "      <td>768.000000</td>\n",
       "      <td>768.000000</td>\n",
       "      <td>768.000000</td>\n",
       "      <td>768.000000</td>\n",
       "      <td>768.000000</td>\n",
       "    </tr>\n",
       "    <tr>\n",
       "      <th>mean</th>\n",
       "      <td>3.845052</td>\n",
       "      <td>120.894531</td>\n",
       "      <td>69.105469</td>\n",
       "      <td>20.536458</td>\n",
       "      <td>79.799479</td>\n",
       "      <td>31.992578</td>\n",
       "      <td>0.471876</td>\n",
       "      <td>33.240885</td>\n",
       "      <td>0.348958</td>\n",
       "    </tr>\n",
       "    <tr>\n",
       "      <th>std</th>\n",
       "      <td>3.369578</td>\n",
       "      <td>31.972618</td>\n",
       "      <td>19.355807</td>\n",
       "      <td>15.952218</td>\n",
       "      <td>115.244002</td>\n",
       "      <td>7.884160</td>\n",
       "      <td>0.331329</td>\n",
       "      <td>11.760232</td>\n",
       "      <td>0.476951</td>\n",
       "    </tr>\n",
       "    <tr>\n",
       "      <th>min</th>\n",
       "      <td>0.000000</td>\n",
       "      <td>0.000000</td>\n",
       "      <td>0.000000</td>\n",
       "      <td>0.000000</td>\n",
       "      <td>0.000000</td>\n",
       "      <td>0.000000</td>\n",
       "      <td>0.078000</td>\n",
       "      <td>21.000000</td>\n",
       "      <td>0.000000</td>\n",
       "    </tr>\n",
       "    <tr>\n",
       "      <th>25%</th>\n",
       "      <td>1.000000</td>\n",
       "      <td>99.000000</td>\n",
       "      <td>62.000000</td>\n",
       "      <td>0.000000</td>\n",
       "      <td>0.000000</td>\n",
       "      <td>27.300000</td>\n",
       "      <td>0.243750</td>\n",
       "      <td>24.000000</td>\n",
       "      <td>0.000000</td>\n",
       "    </tr>\n",
       "    <tr>\n",
       "      <th>50%</th>\n",
       "      <td>3.000000</td>\n",
       "      <td>117.000000</td>\n",
       "      <td>72.000000</td>\n",
       "      <td>23.000000</td>\n",
       "      <td>30.500000</td>\n",
       "      <td>32.000000</td>\n",
       "      <td>0.372500</td>\n",
       "      <td>29.000000</td>\n",
       "      <td>0.000000</td>\n",
       "    </tr>\n",
       "    <tr>\n",
       "      <th>75%</th>\n",
       "      <td>6.000000</td>\n",
       "      <td>140.250000</td>\n",
       "      <td>80.000000</td>\n",
       "      <td>32.000000</td>\n",
       "      <td>127.250000</td>\n",
       "      <td>36.600000</td>\n",
       "      <td>0.626250</td>\n",
       "      <td>41.000000</td>\n",
       "      <td>1.000000</td>\n",
       "    </tr>\n",
       "    <tr>\n",
       "      <th>max</th>\n",
       "      <td>17.000000</td>\n",
       "      <td>199.000000</td>\n",
       "      <td>122.000000</td>\n",
       "      <td>99.000000</td>\n",
       "      <td>846.000000</td>\n",
       "      <td>67.100000</td>\n",
       "      <td>2.420000</td>\n",
       "      <td>81.000000</td>\n",
       "      <td>1.000000</td>\n",
       "    </tr>\n",
       "  </tbody>\n",
       "</table>\n",
       "</div>"
      ],
      "text/plain": [
       "         PREGNANT     GLUCOSE  BLOODPRESS  SKINTHICKNESS     INSULIN  \\\n",
       "count  768.000000  768.000000  768.000000     768.000000  768.000000   \n",
       "mean     3.845052  120.894531   69.105469      20.536458   79.799479   \n",
       "std      3.369578   31.972618   19.355807      15.952218  115.244002   \n",
       "min      0.000000    0.000000    0.000000       0.000000    0.000000   \n",
       "25%      1.000000   99.000000   62.000000       0.000000    0.000000   \n",
       "50%      3.000000  117.000000   72.000000      23.000000   30.500000   \n",
       "75%      6.000000  140.250000   80.000000      32.000000  127.250000   \n",
       "max     17.000000  199.000000  122.000000      99.000000  846.000000   \n",
       "\n",
       "       BODYMASSINDEX  PEDIGREEFUNC         AGE    DIABETES  \n",
       "count     768.000000    768.000000  768.000000  768.000000  \n",
       "mean       31.992578      0.471876   33.240885    0.348958  \n",
       "std         7.884160      0.331329   11.760232    0.476951  \n",
       "min         0.000000      0.078000   21.000000    0.000000  \n",
       "25%        27.300000      0.243750   24.000000    0.000000  \n",
       "50%        32.000000      0.372500   29.000000    0.000000  \n",
       "75%        36.600000      0.626250   41.000000    1.000000  \n",
       "max        67.100000      2.420000   81.000000    1.000000  "
      ]
     },
     "execution_count": 6,
     "metadata": {},
     "output_type": "execute_result"
    }
   ],
   "source": [
    "diabetes.describe()"
   ]
  },
  {
   "cell_type": "code",
   "execution_count": 6,
   "id": "92b355bb",
   "metadata": {},
   "outputs": [
    {
     "data": {
      "text/plain": [
       "0      72\n",
       "1      66\n",
       "2      64\n",
       "3      66\n",
       "4      40\n",
       "       ..\n",
       "763    76\n",
       "764    70\n",
       "765    72\n",
       "766    60\n",
       "767    70\n",
       "Name: BLOODPRESS, Length: 768, dtype: int64"
      ]
     },
     "execution_count": 6,
     "metadata": {},
     "output_type": "execute_result"
    }
   ],
   "source": [
    "blod_0 = diabetes.loc"
   ]
  },
  {
   "cell_type": "code",
   "execution_count": 20,
   "id": "476e5790",
   "metadata": {},
   "outputs": [
    {
     "data": {
      "image/png": "[encoded data removed]",
      "text/plain": [
       "<Figure size 640x480 with 4 Axes>"
      ]
     },
     "metadata": {},
     "output_type": "display_data"
    }
   ],
   "source": [
    "ax = diabetes.loc[:, [\"PREGNANT\",\"SKINTHICKNESS\", \"BLOODPRESS\", \"INSULIN\"]].plot.box(\n",
    "    subplots=True, layout=(2,2), sharex=False, sharey=False)"
   ]
  },
  {
   "cell_type": "code",
   "execution_count": 21,
   "id": "2cf89a36",
   "metadata": {},
   "outputs": [
    {
     "data": {
      "image/png": "[encoded data removed]",
      "text/plain": [
       "<Figure size 640x480 with 4 Axes>"
      ]
     },
     "metadata": {},
     "output_type": "display_data"
    }
   ],
   "source": [
    "ax = diabetes.loc[:, [\"BODYMASSINDEX\",\"PEDIGREEFUNC\", \"BLOODPRESS\", \"AGE\"]].plot.box(\n",
    "    subplots=True, layout=(2,2), sharex=False, sharey=False)"
   ]
  },
  {
   "cell_type": "markdown",
   "id": "59995a26",
   "metadata": {},
   "source": [
    "## PREGNANT\n",
    "En cuanto a la variable 'PREGNANT', el máximo es de 17 embarazos, algo que es posible que suceda, por lo tanto hemos decidido no eliminar los outliers de esta variable."
   ]
  },
  {
   "cell_type": "code",
   "execution_count": 30,
   "id": "a60328eb",
   "metadata": {},
   "outputs": [
    {
     "name": "stdout",
     "output_type": "stream",
     "text": [
      "El mínimo de embarazos es de 0 y el máximo 17\n"
     ]
    },
    {
     "data": {
      "text/plain": [
       "0     111\n",
       "1     135\n",
       "2     103\n",
       "3      75\n",
       "4      68\n",
       "5      57\n",
       "6      50\n",
       "7      45\n",
       "8      38\n",
       "9      28\n",
       "10     24\n",
       "11     11\n",
       "12      9\n",
       "13     10\n",
       "14      2\n",
       "15      1\n",
       "17      1\n",
       "Name: PREGNANT, dtype: int64"
      ]
     },
     "execution_count": 30,
     "metadata": {},
     "output_type": "execute_result"
    },
    {
     "data": {
      "image/png": "[encoded data removed]",
      "text/plain": [
       "<Figure size 432x288 with 1 Axes>"
      ]
     },
     "metadata": {
      "needs_background": "light"
     },
     "output_type": "display_data"
    }
   ],
   "source": [
    "# OBTENER LOS VALORES DE LOS OUTLIERS EXACTOS\n",
    "\n",
    "print('El mínimo de embarazos es de', diabetes.PREGNANT.min(), 'y el máximo', diabetes.PREGNANT.max())\n",
    "\n",
    "dens_plot = sns.histplot(data = diabetes, x = 'PREGNANT', kde=True)#, stat='density')\n",
    "\n",
    "# Editamos el color y grosor de la curva de densidad\n",
    "\n",
    "dens_plot.lines[0].set_color('red')\n",
    "dens_plot.lines[0].set_linewidth(3)\n",
    "getplot = dens_plot.set_title(\"CON DIABETES\")\n",
    "\n",
    "diabetes.PREGNANT.value_counts().sort_index()\n",
    "# La mayoría de los casos se dan en 0, 1 y 2 embarazos, como podemos ver en el gráfico de barras\n",
    "\n",
    "# Al tratarse de valores que se pueden dar en casos reales, hemos decidido no eliminar o sustituir los outliers por otros valores."
   ]
  },
  {
   "cell_type": "code",
   "execution_count": 24,
   "id": "90808140",
   "metadata": {},
   "outputs": [],
   "source": [
    "## FALTA DECIDIR QUE HACER CON LOS OUTLIERS, SI BORRARLOS O QUE HACER CON ELLOS"
   ]
  },
  {
   "cell_type": "code",
   "execution_count": 25,
   "id": "61a40fe9",
   "metadata": {},
   "outputs": [],
   "source": [
    "## LA DE DIABETES COMO ES 0 O 1 NO TIENE MUCHO SENTIDO HACERLO"
   ]
  },
  {
   "cell_type": "markdown",
   "id": "40835b19",
   "metadata": {},
   "source": [
    "Pregnant"
   ]
  },
  {
   "cell_type": "markdown",
   "id": "2cfef7b8",
   "metadata": {},
   "source": [
    "### STEP 4: ENCODE CATEGORICAL VARIABLES"
   ]
  },
  {
   "cell_type": "code",
   "execution_count": 26,
   "id": "19a95dca",
   "metadata": {},
   "outputs": [
    {
     "name": "stdout",
     "output_type": "stream",
     "text": [
      "<class 'pandas.core.frame.DataFrame'>\n",
      "RangeIndex: 768 entries, 0 to 767\n",
      "Data columns (total 9 columns):\n",
      " #   Column         Non-Null Count  Dtype   \n",
      "---  ------         --------------  -----   \n",
      " 0   PREGNANT       768 non-null    int64   \n",
      " 1   GLUCOSE        768 non-null    int64   \n",
      " 2   BLOODPRESS     768 non-null    int64   \n",
      " 3   SKINTHICKNESS  768 non-null    int64   \n",
      " 4   INSULIN        768 non-null    int64   \n",
      " 5   BODYMASSINDEX  768 non-null    float64 \n",
      " 6   PEDIGREEFUNC   768 non-null    float64 \n",
      " 7   AGE            768 non-null    int64   \n",
      " 8   DIABETES       768 non-null    category\n",
      "dtypes: category(1), float64(2), int64(6)\n",
      "memory usage: 49.0 KB\n"
     ]
    }
   ],
   "source": [
    "#There are no categorical input variables, but 'DIABETES' would be a categorical value.\n",
    "### Convert output variable to factor, in this case 'DIABETES' is a categorical variable.\n",
    "diabetes.DIABETES = diabetes.DIABETES.astype('category') \n",
    "diabetes.info()"
   ]
  },
  {
   "cell_type": "markdown",
   "id": "f75f2c5f",
   "metadata": {},
   "source": [
    "### STEP 5: EXPLORATORY ANALYSIS\n",
    "Correlation plot of numeric variables"
   ]
  },
  {
   "cell_type": "code",
   "execution_count": 19,
   "id": "234068c8",
   "metadata": {},
   "outputs": [
    {
     "data": {
      "text/plain": [
       "11"
      ]
     },
     "execution_count": 19,
     "metadata": {},
     "output_type": "execute_result"
    }
   ],
   "source": [
    "diabetes.BODYMASSINDEX.min()\n",
    "dia = len(diabetes.loc[diabetes.BODYMASSINDEX == 0])\n",
    "dia"
   ]
  },
  {
   "cell_type": "code",
   "execution_count": 24,
   "id": "7303d81f",
   "metadata": {},
   "outputs": [
    {
     "data": {
      "text/plain": [
       "2.42"
      ]
     },
     "execution_count": 24,
     "metadata": {},
     "output_type": "execute_result"
    }
   ],
   "source": [
    "diabetes.PEDIGREEFUNC.max()"
   ]
  },
  {
   "cell_type": "markdown",
   "id": "691309fd",
   "metadata": {},
   "source": [
    "En cuanto a la variable 'PREGNANT', el máximo es de 17 embarazos, algo que es posible que suceda, por lo tanto hemos decidido no eliminar los outliers de esta variable.\n",
    "\n",
    "\n",
    "La variable 'GLUCOSE' es la variable respuesta o output.\n",
    "\n",
    "\n",
    "En la variable 'BLOODPRESS' el mínimo es 0, esto significa que la presión arterial demasiado baja puede disminuir los niveles de oxígeno del cuerpo y provocar daño al corazón y al cerebro. Por otra parte, el máximo de presión arterial es 122, se considera una presión arterial alta en torno a 80 en adelante.\n",
    "\n",
    "\n",
    "Después tenemos la variable 'SKINTHICKNESS', que tiene un outlier con el valor 99. y QUE HACEMOS CON ESTE ÚNICO VALOR 99\n",
    "El mínimo es 0, hay 227 casos en los que el paciente tiene 0 mm de grosor de pliegue cutáneo del triceps. QUE HACEMOS?????????????????\n",
    "\n",
    "\n",
    "\n",
    "La variable 'INSULINA', lo normal es que sea de 5-26 U/ml. Por lo que en la gráfica de insulina es normal que haya tantos \"outliers\" alrededor del 0.\n",
    "\n",
    "\n",
    "\n",
    "La variable 'BODYMASSINDEX' indica el índice de masa corporal, que se mide teniendo en cuenta el peso y la altura de cada persona. Hay 11 casos en los que el BODYMASSINDEX es igual a 0, esto significaría que la persona carecería de masa corporal, lo cual es imposible. Aquí habría que tratar estos outliers, tenemos dos opciones, eliminarlos o sustituirlos por la media. Al tener un total de 788 observaciones, convendría tratarlos sussituyendo el valor de 0 por la media de la variable, en este caso es 32.\n",
    "\n",
    "\n",
    "Por otro lado tenemos la variable 'PEDIGREEFUNC' que representa una síntesis de la historia de la diabetes mellitus en familiares y la genética de estos parientes con el sujeto. Esta variable, cuanto mas alto sea su valor, más familiares tendrá con dibabetes. En este caso podemos ver en el boxplot muchos outliers por encima de 1,25. El valor mínimo es 0.078, y el valor máximo es de 2.42. \n"
   ]
  }
 ],
 "metadata": {
  "kernelspec": {
   "display_name": "Python 3 (ipykernel)",
   "language": "python",
   "name": "python3"
  },
  "language_info": {
   "codemirror_mode": {
    "name": "ipython",
    "version": 3
   },
   "file_extension": ".py",
   "mimetype": "text/x-python",
   "name": "python",
   "nbconvert_exporter": "python",
   "pygments_lexer": "ipython3",
   "version": "3.10.4"
  }
 },
 "nbformat": 4,
 "nbformat_minor": 5
}
