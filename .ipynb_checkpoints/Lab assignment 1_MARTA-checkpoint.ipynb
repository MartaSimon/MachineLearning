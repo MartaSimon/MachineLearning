{
 "cells": [
  {
   "cell_type": "markdown",
   "id": "c54d64d7",
   "metadata": {},
   "source": [
    "# Lab assignment 1: Classification\n",
    "+ Ana Rotella Fernandez\n",
    "+ Marta Simón Pinacho\n",
    "+ Ana Miguélez Martínez"
   ]
  },
  {
   "cell_type": "code",
   "execution_count": 2,
   "id": "570c8ac4",
   "metadata": {},
   "outputs": [],
   "source": [
    "import pandas as pd\n",
    "import numpy as np\n",
    "import matplotlib.pyplot as plt\n",
    "import seaborn as snsç\n",
    "import numpy as np\n",
    "import xlrd # Para excels\n",
    "import seaborn as sns\n",
    "import matplotlib.pyplot as plt\n",
    "import scipy.stats as stats"
   ]
  },
  {
   "cell_type": "markdown",
   "id": "0fafad89",
   "metadata": {},
   "source": [
    "### 1. Exploratory Data Analysis (EDA)"
   ]
  },
  {
   "cell_type": "markdown",
   "id": "dce5e970",
   "metadata": {},
   "source": [
    "#### STEP 1: IMPORT DATASET"
   ]
  },
  {
   "cell_type": "code",
   "execution_count": 3,
   "id": "6fbee09c",
   "metadata": {},
   "outputs": [
    {
     "data": {
      "text/html": [
       "<div>\n",
       "<style scoped>\n",
       "    .dataframe tbody tr th:only-of-type {\n",
       "        vertical-align: middle;\n",
       "    }\n",
       "\n",
       "    .dataframe tbody tr th {\n",
       "        vertical-align: top;\n",
       "    }\n",
       "\n",
       "    .dataframe thead th {\n",
       "        text-align: right;\n",
       "    }\n",
       "</style>\n",
       "<table border=\"1\" class=\"dataframe\">\n",
       "  <thead>\n",
       "    <tr style=\"text-align: right;\">\n",
       "      <th></th>\n",
       "      <th>PREGNANT</th>\n",
       "      <th>GLUCOSE</th>\n",
       "      <th>BLOODPRESS</th>\n",
       "      <th>SKINTHICKNESS</th>\n",
       "      <th>INSULIN</th>\n",
       "      <th>BODYMASSINDEX</th>\n",
       "      <th>PEDIGREEFUNC</th>\n",
       "      <th>AGE</th>\n",
       "      <th>DIABETES</th>\n",
       "    </tr>\n",
       "  </thead>\n",
       "  <tbody>\n",
       "    <tr>\n",
       "      <th>0</th>\n",
       "      <td>6</td>\n",
       "      <td>148</td>\n",
       "      <td>72</td>\n",
       "      <td>35</td>\n",
       "      <td>0</td>\n",
       "      <td>33.6</td>\n",
       "      <td>0.627</td>\n",
       "      <td>50</td>\n",
       "      <td>1</td>\n",
       "    </tr>\n",
       "    <tr>\n",
       "      <th>1</th>\n",
       "      <td>1</td>\n",
       "      <td>85</td>\n",
       "      <td>66</td>\n",
       "      <td>29</td>\n",
       "      <td>0</td>\n",
       "      <td>26.6</td>\n",
       "      <td>0.351</td>\n",
       "      <td>31</td>\n",
       "      <td>0</td>\n",
       "    </tr>\n",
       "    <tr>\n",
       "      <th>2</th>\n",
       "      <td>8</td>\n",
       "      <td>183</td>\n",
       "      <td>64</td>\n",
       "      <td>0</td>\n",
       "      <td>0</td>\n",
       "      <td>23.3</td>\n",
       "      <td>0.672</td>\n",
       "      <td>32</td>\n",
       "      <td>1</td>\n",
       "    </tr>\n",
       "    <tr>\n",
       "      <th>3</th>\n",
       "      <td>1</td>\n",
       "      <td>89</td>\n",
       "      <td>66</td>\n",
       "      <td>23</td>\n",
       "      <td>94</td>\n",
       "      <td>28.1</td>\n",
       "      <td>0.167</td>\n",
       "      <td>21</td>\n",
       "      <td>0</td>\n",
       "    </tr>\n",
       "    <tr>\n",
       "      <th>4</th>\n",
       "      <td>0</td>\n",
       "      <td>137</td>\n",
       "      <td>40</td>\n",
       "      <td>35</td>\n",
       "      <td>168</td>\n",
       "      <td>43.1</td>\n",
       "      <td>2.288</td>\n",
       "      <td>33</td>\n",
       "      <td>1</td>\n",
       "    </tr>\n",
       "    <tr>\n",
       "      <th>...</th>\n",
       "      <td>...</td>\n",
       "      <td>...</td>\n",
       "      <td>...</td>\n",
       "      <td>...</td>\n",
       "      <td>...</td>\n",
       "      <td>...</td>\n",
       "      <td>...</td>\n",
       "      <td>...</td>\n",
       "      <td>...</td>\n",
       "    </tr>\n",
       "    <tr>\n",
       "      <th>763</th>\n",
       "      <td>10</td>\n",
       "      <td>101</td>\n",
       "      <td>76</td>\n",
       "      <td>48</td>\n",
       "      <td>180</td>\n",
       "      <td>32.9</td>\n",
       "      <td>0.171</td>\n",
       "      <td>63</td>\n",
       "      <td>0</td>\n",
       "    </tr>\n",
       "    <tr>\n",
       "      <th>764</th>\n",
       "      <td>2</td>\n",
       "      <td>122</td>\n",
       "      <td>70</td>\n",
       "      <td>27</td>\n",
       "      <td>0</td>\n",
       "      <td>36.8</td>\n",
       "      <td>0.340</td>\n",
       "      <td>27</td>\n",
       "      <td>0</td>\n",
       "    </tr>\n",
       "    <tr>\n",
       "      <th>765</th>\n",
       "      <td>5</td>\n",
       "      <td>121</td>\n",
       "      <td>72</td>\n",
       "      <td>23</td>\n",
       "      <td>112</td>\n",
       "      <td>26.2</td>\n",
       "      <td>0.245</td>\n",
       "      <td>30</td>\n",
       "      <td>0</td>\n",
       "    </tr>\n",
       "    <tr>\n",
       "      <th>766</th>\n",
       "      <td>1</td>\n",
       "      <td>126</td>\n",
       "      <td>60</td>\n",
       "      <td>0</td>\n",
       "      <td>0</td>\n",
       "      <td>30.1</td>\n",
       "      <td>0.349</td>\n",
       "      <td>47</td>\n",
       "      <td>1</td>\n",
       "    </tr>\n",
       "    <tr>\n",
       "      <th>767</th>\n",
       "      <td>1</td>\n",
       "      <td>93</td>\n",
       "      <td>70</td>\n",
       "      <td>31</td>\n",
       "      <td>0</td>\n",
       "      <td>30.4</td>\n",
       "      <td>0.315</td>\n",
       "      <td>23</td>\n",
       "      <td>0</td>\n",
       "    </tr>\n",
       "  </tbody>\n",
       "</table>\n",
       "<p>768 rows × 9 columns</p>\n",
       "</div>"
      ],
      "text/plain": [
       "     PREGNANT  GLUCOSE  BLOODPRESS  SKINTHICKNESS  INSULIN  BODYMASSINDEX  \\\n",
       "0           6      148          72             35        0           33.6   \n",
       "1           1       85          66             29        0           26.6   \n",
       "2           8      183          64              0        0           23.3   \n",
       "3           1       89          66             23       94           28.1   \n",
       "4           0      137          40             35      168           43.1   \n",
       "..        ...      ...         ...            ...      ...            ...   \n",
       "763        10      101          76             48      180           32.9   \n",
       "764         2      122          70             27        0           36.8   \n",
       "765         5      121          72             23      112           26.2   \n",
       "766         1      126          60              0        0           30.1   \n",
       "767         1       93          70             31        0           30.4   \n",
       "\n",
       "     PEDIGREEFUNC  AGE  DIABETES  \n",
       "0           0.627   50         1  \n",
       "1           0.351   31         0  \n",
       "2           0.672   32         1  \n",
       "3           0.167   21         0  \n",
       "4           2.288   33         1  \n",
       "..            ...  ...       ...  \n",
       "763         0.171   63         0  \n",
       "764         0.340   27         0  \n",
       "765         0.245   30         0  \n",
       "766         0.349   47         1  \n",
       "767         0.315   23         0  \n",
       "\n",
       "[768 rows x 9 columns]"
      ]
     },
     "execution_count": 3,
     "metadata": {},
     "output_type": "execute_result"
    }
   ],
   "source": [
    "### Load file --------------------------------------------\n",
    "diabetes = pd.read_csv('Diabetes.csv', sep = \";\")\n",
    "diabetes"
   ]
  },
  {
   "cell_type": "markdown",
   "id": "54002960",
   "metadata": {},
   "source": [
    "#### STEP 2: CHECK OUT THE MISSING VALUES"
   ]
  },
  {
   "cell_type": "code",
   "execution_count": 4,
   "id": "20415c07",
   "metadata": {},
   "outputs": [
    {
     "name": "stdout",
     "output_type": "stream",
     "text": [
      "<class 'pandas.core.frame.DataFrame'>\n",
      "RangeIndex: 768 entries, 0 to 767\n",
      "Data columns (total 9 columns):\n",
      " #   Column         Non-Null Count  Dtype  \n",
      "---  ------         --------------  -----  \n",
      " 0   PREGNANT       768 non-null    int64  \n",
      " 1   GLUCOSE        768 non-null    int64  \n",
      " 2   BLOODPRESS     768 non-null    int64  \n",
      " 3   SKINTHICKNESS  768 non-null    int64  \n",
      " 4   INSULIN        768 non-null    int64  \n",
      " 5   BODYMASSINDEX  768 non-null    float64\n",
      " 6   PEDIGREEFUNC   768 non-null    float64\n",
      " 7   AGE            768 non-null    int64  \n",
      " 8   DIABETES       768 non-null    int64  \n",
      "dtypes: float64(2), int64(7)\n",
      "memory usage: 54.1 KB\n"
     ]
    }
   ],
   "source": [
    "### Info and type of variables & missing, veo cuantos valores non-null para todos los variables\n",
    "diabetes.info()"
   ]
  },
  {
   "cell_type": "code",
   "execution_count": 5,
   "id": "f18d1775",
   "metadata": {},
   "outputs": [
    {
     "name": "stdout",
     "output_type": "stream",
     "text": [
      "Number of NAs in dataframe: 0\n"
     ]
    },
    {
     "data": {
      "text/plain": [
       "PREGNANT         False\n",
       "GLUCOSE          False\n",
       "BLOODPRESS       False\n",
       "SKINTHICKNESS    False\n",
       "INSULIN          False\n",
       "BODYMASSINDEX    False\n",
       "PEDIGREEFUNC     False\n",
       "AGE              False\n",
       "DIABETES         False\n",
       "dtype: bool"
      ]
     },
     "execution_count": 5,
     "metadata": {},
     "output_type": "execute_result"
    }
   ],
   "source": [
    "# How many NAs?\n",
    "print('Number of NAs in dataframe:',diabetes.isnull().values.sum()) \n",
    "diabetes.isnull().any() # Are there any NAs? No,there are not any NAs"
   ]
  },
  {
   "cell_type": "markdown",
   "id": "b6e07c20",
   "metadata": {},
   "source": [
    "#### STEP 3: PLOT THE DATA AND CHECK OUT FOR OUTLIERS"
   ]
  },
  {
   "cell_type": "code",
   "execution_count": 6,
   "id": "80333c86",
   "metadata": {},
   "outputs": [
    {
     "data": {
      "text/html": [
       "<div>\n",
       "<style scoped>\n",
       "    .dataframe tbody tr th:only-of-type {\n",
       "        vertical-align: middle;\n",
       "    }\n",
       "\n",
       "    .dataframe tbody tr th {\n",
       "        vertical-align: top;\n",
       "    }\n",
       "\n",
       "    .dataframe thead th {\n",
       "        text-align: right;\n",
       "    }\n",
       "</style>\n",
       "<table border=\"1\" class=\"dataframe\">\n",
       "  <thead>\n",
       "    <tr style=\"text-align: right;\">\n",
       "      <th></th>\n",
       "      <th>PREGNANT</th>\n",
       "      <th>GLUCOSE</th>\n",
       "      <th>BLOODPRESS</th>\n",
       "      <th>SKINTHICKNESS</th>\n",
       "      <th>INSULIN</th>\n",
       "      <th>BODYMASSINDEX</th>\n",
       "      <th>PEDIGREEFUNC</th>\n",
       "      <th>AGE</th>\n",
       "      <th>DIABETES</th>\n",
       "    </tr>\n",
       "  </thead>\n",
       "  <tbody>\n",
       "    <tr>\n",
       "      <th>count</th>\n",
       "      <td>768.000000</td>\n",
       "      <td>768.000000</td>\n",
       "      <td>768.000000</td>\n",
       "      <td>768.000000</td>\n",
       "      <td>768.000000</td>\n",
       "      <td>768.000000</td>\n",
       "      <td>768.000000</td>\n",
       "      <td>768.000000</td>\n",
       "      <td>768.000000</td>\n",
       "    </tr>\n",
       "    <tr>\n",
       "      <th>mean</th>\n",
       "      <td>3.845052</td>\n",
       "      <td>120.894531</td>\n",
       "      <td>69.105469</td>\n",
       "      <td>20.536458</td>\n",
       "      <td>79.799479</td>\n",
       "      <td>31.992578</td>\n",
       "      <td>0.471876</td>\n",
       "      <td>33.240885</td>\n",
       "      <td>0.348958</td>\n",
       "    </tr>\n",
       "    <tr>\n",
       "      <th>std</th>\n",
       "      <td>3.369578</td>\n",
       "      <td>31.972618</td>\n",
       "      <td>19.355807</td>\n",
       "      <td>15.952218</td>\n",
       "      <td>115.244002</td>\n",
       "      <td>7.884160</td>\n",
       "      <td>0.331329</td>\n",
       "      <td>11.760232</td>\n",
       "      <td>0.476951</td>\n",
       "    </tr>\n",
       "    <tr>\n",
       "      <th>min</th>\n",
       "      <td>0.000000</td>\n",
       "      <td>0.000000</td>\n",
       "      <td>0.000000</td>\n",
       "      <td>0.000000</td>\n",
       "      <td>0.000000</td>\n",
       "      <td>0.000000</td>\n",
       "      <td>0.078000</td>\n",
       "      <td>21.000000</td>\n",
       "      <td>0.000000</td>\n",
       "    </tr>\n",
       "    <tr>\n",
       "      <th>25%</th>\n",
       "      <td>1.000000</td>\n",
       "      <td>99.000000</td>\n",
       "      <td>62.000000</td>\n",
       "      <td>0.000000</td>\n",
       "      <td>0.000000</td>\n",
       "      <td>27.300000</td>\n",
       "      <td>0.243750</td>\n",
       "      <td>24.000000</td>\n",
       "      <td>0.000000</td>\n",
       "    </tr>\n",
       "    <tr>\n",
       "      <th>50%</th>\n",
       "      <td>3.000000</td>\n",
       "      <td>117.000000</td>\n",
       "      <td>72.000000</td>\n",
       "      <td>23.000000</td>\n",
       "      <td>30.500000</td>\n",
       "      <td>32.000000</td>\n",
       "      <td>0.372500</td>\n",
       "      <td>29.000000</td>\n",
       "      <td>0.000000</td>\n",
       "    </tr>\n",
       "    <tr>\n",
       "      <th>75%</th>\n",
       "      <td>6.000000</td>\n",
       "      <td>140.250000</td>\n",
       "      <td>80.000000</td>\n",
       "      <td>32.000000</td>\n",
       "      <td>127.250000</td>\n",
       "      <td>36.600000</td>\n",
       "      <td>0.626250</td>\n",
       "      <td>41.000000</td>\n",
       "      <td>1.000000</td>\n",
       "    </tr>\n",
       "    <tr>\n",
       "      <th>max</th>\n",
       "      <td>17.000000</td>\n",
       "      <td>199.000000</td>\n",
       "      <td>122.000000</td>\n",
       "      <td>99.000000</td>\n",
       "      <td>846.000000</td>\n",
       "      <td>67.100000</td>\n",
       "      <td>2.420000</td>\n",
       "      <td>81.000000</td>\n",
       "      <td>1.000000</td>\n",
       "    </tr>\n",
       "  </tbody>\n",
       "</table>\n",
       "</div>"
      ],
      "text/plain": [
       "         PREGNANT     GLUCOSE  BLOODPRESS  SKINTHICKNESS     INSULIN  \\\n",
       "count  768.000000  768.000000  768.000000     768.000000  768.000000   \n",
       "mean     3.845052  120.894531   69.105469      20.536458   79.799479   \n",
       "std      3.369578   31.972618   19.355807      15.952218  115.244002   \n",
       "min      0.000000    0.000000    0.000000       0.000000    0.000000   \n",
       "25%      1.000000   99.000000   62.000000       0.000000    0.000000   \n",
       "50%      3.000000  117.000000   72.000000      23.000000   30.500000   \n",
       "75%      6.000000  140.250000   80.000000      32.000000  127.250000   \n",
       "max     17.000000  199.000000  122.000000      99.000000  846.000000   \n",
       "\n",
       "       BODYMASSINDEX  PEDIGREEFUNC         AGE    DIABETES  \n",
       "count     768.000000    768.000000  768.000000  768.000000  \n",
       "mean       31.992578      0.471876   33.240885    0.348958  \n",
       "std         7.884160      0.331329   11.760232    0.476951  \n",
       "min         0.000000      0.078000   21.000000    0.000000  \n",
       "25%        27.300000      0.243750   24.000000    0.000000  \n",
       "50%        32.000000      0.372500   29.000000    0.000000  \n",
       "75%        36.600000      0.626250   41.000000    1.000000  \n",
       "max        67.100000      2.420000   81.000000    1.000000  "
      ]
     },
     "execution_count": 6,
     "metadata": {},
     "output_type": "execute_result"
    }
   ],
   "source": [
    "diabetes.describe()"
   ]
  },
  {
   "cell_type": "code",
   "execution_count": 8,
   "id": "476e5790",
   "metadata": {},
   "outputs": [
    {
     "data": {
      "image/png": "[encoded data removed]",
      "text/plain": [
       "<Figure size 432x288 with 4 Axes>"
      ]
     },
     "metadata": {
      "needs_background": "light"
     },
     "output_type": "display_data"
    }
   ],
   "source": [
    "ax = diabetes.loc[:, [\"PREGNANT\",\"SKINTHICKNESS\", \"BLOODPRESS\", \"INSULIN\"]].plot.box(\n",
    "    subplots=True, layout=(2,2), sharex=False, sharey=False)"
   ]
  },
  {
   "cell_type": "code",
   "execution_count": 9,
   "id": "2cf89a36",
   "metadata": {},
   "outputs": [
    {
     "data": {
      "image/png": "[encoded data removed]",
      "text/plain": [
       "<Figure size 432x288 with 4 Axes>"
      ]
     },
     "metadata": {
      "needs_background": "light"
     },
     "output_type": "display_data"
    }
   ],
   "source": [
    "ax = diabetes.loc[:, [\"BODYMASSINDEX\",\"PEDIGREEFUNC\", \"BLOODPRESS\", \"AGE\"]].plot.box(\n",
    "    subplots=True, layout=(2,2), sharex=False, sharey=False)"
   ]
  },
  {
   "cell_type": "code",
   "execution_count": 10,
   "id": "90808140",
   "metadata": {},
   "outputs": [],
   "source": [
    "## FALTA DECIDIR QUE HACER CON LOS OUTLIERS, SI BORRARLOS O QUE HACER CON ELLOS"
   ]
  },
  {
   "cell_type": "code",
   "execution_count": 11,
   "id": "61a40fe9",
   "metadata": {},
   "outputs": [],
   "source": [
    "## LA DE DIABETES COMO ES 0 O 1 NO TIENE MUCHO SENTIDO HACERLO"
   ]
  },
  {
   "cell_type": "markdown",
   "id": "2cfef7b8",
   "metadata": {},
   "source": [
    "### STEP 4: ENCODE CATEGORICAL VARIABLES"
   ]
  },
  {
   "cell_type": "code",
   "execution_count": 12,
   "id": "19a95dca",
   "metadata": {},
   "outputs": [
    {
     "name": "stdout",
     "output_type": "stream",
     "text": [
      "<class 'pandas.core.frame.DataFrame'>\n",
      "RangeIndex: 768 entries, 0 to 767\n",
      "Data columns (total 9 columns):\n",
      " #   Column         Non-Null Count  Dtype   \n",
      "---  ------         --------------  -----   \n",
      " 0   PREGNANT       768 non-null    int64   \n",
      " 1   GLUCOSE        768 non-null    int64   \n",
      " 2   BLOODPRESS     768 non-null    int64   \n",
      " 3   SKINTHICKNESS  768 non-null    int64   \n",
      " 4   INSULIN        768 non-null    int64   \n",
      " 5   BODYMASSINDEX  768 non-null    float64 \n",
      " 6   PEDIGREEFUNC   768 non-null    float64 \n",
      " 7   AGE            768 non-null    int64   \n",
      " 8   DIABETES       768 non-null    category\n",
      "dtypes: category(1), float64(2), int64(6)\n",
      "memory usage: 49.0 KB\n"
     ]
    }
   ],
   "source": [
    "#There are no categorical input variables, but 'DIABETES' would be a categorical value.\n",
    "### Convert output variable to factor, in this case 'DIABETES' is a categorical variable.\n",
    "diabetes.DIABETES = diabetes.DIABETES.astype('category') \n",
    "diabetes.info()"
   ]
  },
  {
   "cell_type": "markdown",
   "id": "f75f2c5f",
   "metadata": {},
   "source": [
    "### STEP 5: EXPLORATORY ANALYSIS\n",
    "Correlation plot of numeric variables"
   ]
  },
  {
   "cell_type": "code",
   "execution_count": 13,
   "id": "35848e61",
   "metadata": {},
   "outputs": [
    {
     "data": {
      "text/plain": [
       "0    500\n",
       "1    268\n",
       "Name: DIABETES, dtype: int64"
      ]
     },
     "execution_count": 13,
     "metadata": {},
     "output_type": "execute_result"
    }
   ],
   "source": [
    "diabetes.DIABETES.value_counts()"
   ]
  },
  {
   "cell_type": "code",
   "execution_count": 14,
   "id": "71d12d8c",
   "metadata": {},
   "outputs": [
    {
     "name": "stdout",
     "output_type": "stream",
     "text": [
      "Rango intercuartílico: 9.3\n",
      "Lower and upper outlier limits: 13.35 ,  50.550000000000004\n",
      "The outliers are 19\n"
     ]
    },
    {
     "ename": "NameError",
     "evalue": "name 'price_outliers' is not defined",
     "output_type": "error",
     "traceback": [
      "\u001b[1;31m---------------------------------------------------------------------------\u001b[0m",
      "\u001b[1;31mNameError\u001b[0m                                 Traceback (most recent call last)",
      "Input \u001b[1;32mIn [14]\u001b[0m, in \u001b[0;36m<cell line: 18>\u001b[1;34m()\u001b[0m\n\u001b[0;32m     14\u001b[0m price_outliers_index \u001b[38;5;241m=\u001b[39m diabetes\u001b[38;5;241m.\u001b[39mloc[(diabetes\u001b[38;5;241m.\u001b[39mBODYMASSINDEX \u001b[38;5;241m<\u001b[39m cut_low) \u001b[38;5;241m|\u001b[39m (diabetes\u001b[38;5;241m.\u001b[39mBODYMASSINDEX \u001b[38;5;241m>\u001b[39m cut_high)]\u001b[38;5;241m.\u001b[39mindex\n\u001b[0;32m     16\u001b[0m \u001b[38;5;28mprint\u001b[39m(\u001b[38;5;124m\"\u001b[39m\u001b[38;5;124mThe outliers are\u001b[39m\u001b[38;5;124m\"\u001b[39m, \u001b[38;5;28mlen\u001b[39m(price_outliers_index))\n\u001b[1;32m---> 18\u001b[0m \u001b[43mprice_outliers\u001b[49m\n",
      "\u001b[1;31mNameError\u001b[0m: name 'price_outliers' is not defined"
     ]
    }
   ],
   "source": [
    "# QUITAMOS LOS OTLIERS DE BODYMASSINDEX\n",
    "price_iqr = stats.iqr(diabetes.BODYMASSINDEX)\n",
    "print(f\"Rango intercuartílico: {price_iqr}\")\n",
    "# Para localizar el primer y tercer cuartil.\n",
    "price_q1, price_q3 = np.quantile(diabetes.BODYMASSINDEX, [0.25, 0.75])\n",
    "\n",
    "# Limites de los valores atípicos\n",
    "cut_low = price_q1 - 1.5 * price_iqr\n",
    "cut_high = price_q3 + 1.5 * price_iqr\n",
    "\n",
    "print(\"Lower and upper outlier limits:\", cut_low, \", \", cut_high)\n",
    "\n",
    "# Obtenemos de nuestro dataset todos los valores atípicos segun los limites calculados\n",
    "price_outliers_index = diabetes.loc[(diabetes.BODYMASSINDEX < cut_low) | (diabetes.BODYMASSINDEX > cut_high)].index\n",
    "\n",
    "print(\"The outliers are\", len(price_outliers_index))\n",
    "\n",
    "price_outliers\n",
    "# Representación mediante boxpots (sección gráficos)"
   ]
  },
  {
   "cell_type": "code",
   "execution_count": 15,
   "id": "e0633715",
   "metadata": {},
   "outputs": [],
   "source": [
    "# Localizamos los valores de pctUrban mayores que 10 y menores que 90\n",
    "# Eliminamos estas filas del dataframe\n",
    "diabetes.drop(index = price_outliers_index, inplace = True)"
   ]
  },
  {
   "cell_type": "code",
   "execution_count": 16,
   "id": "6f4dee58",
   "metadata": {},
   "outputs": [
    {
     "name": "stdout",
     "output_type": "stream",
     "text": [
      "Rango intercuartílico: 16.0\n",
      "Lower and upper outlier limits: 40.0 ,  104.0\n",
      "The outliers are 39\n"
     ]
    },
    {
     "ename": "NameError",
     "evalue": "name 'price_outliers' is not defined",
     "output_type": "error",
     "traceback": [
      "\u001b[1;31m---------------------------------------------------------------------------\u001b[0m",
      "\u001b[1;31mNameError\u001b[0m                                 Traceback (most recent call last)",
      "Input \u001b[1;32mIn [16]\u001b[0m, in \u001b[0;36m<cell line: 18>\u001b[1;34m()\u001b[0m\n\u001b[0;32m     14\u001b[0m price_outliers_index \u001b[38;5;241m=\u001b[39m diabetes\u001b[38;5;241m.\u001b[39mloc[(diabetes\u001b[38;5;241m.\u001b[39mBLOODPRESS \u001b[38;5;241m<\u001b[39m cut_low) \u001b[38;5;241m|\u001b[39m (diabetes\u001b[38;5;241m.\u001b[39mBLOODPRESS \u001b[38;5;241m>\u001b[39m cut_high)]\u001b[38;5;241m.\u001b[39mindex\n\u001b[0;32m     16\u001b[0m \u001b[38;5;28mprint\u001b[39m(\u001b[38;5;124m\"\u001b[39m\u001b[38;5;124mThe outliers are\u001b[39m\u001b[38;5;124m\"\u001b[39m, \u001b[38;5;28mlen\u001b[39m(price_outliers_index))\n\u001b[1;32m---> 18\u001b[0m \u001b[43mprice_outliers\u001b[49m\n",
      "\u001b[1;31mNameError\u001b[0m: name 'price_outliers' is not defined"
     ]
    }
   ],
   "source": [
    "# QUITAMOS LOS OTLIERS DE BODYMASSINDEX\n",
    "price_iqr = stats.iqr(diabetes.BLOODPRESS)\n",
    "print(f\"Rango intercuartílico: {price_iqr}\")\n",
    "# Para localizar el primer y tercer cuartil.\n",
    "price_q1, price_q3 = np.quantile(diabetes.BLOODPRESS, [0.25, 0.75])\n",
    "\n",
    "# Limites de los valores atípicos\n",
    "cut_low = price_q1 - 1.5 * price_iqr\n",
    "cut_high = price_q3 + 1.5 * price_iqr\n",
    "\n",
    "print(\"Lower and upper outlier limits:\", cut_low, \", \", cut_high)\n",
    "\n",
    "# Obtenemos de nuestro dataset todos los valores atípicos segun los limites calculados\n",
    "price_outliers_index = diabetes.loc[(diabetes.BLOODPRESS < cut_low) | (diabetes.BLOODPRESS > cut_high)].index\n",
    "\n",
    "print(\"The outliers are\", len(price_outliers_index))\n",
    "\n",
    "price_outliers"
   ]
  },
  {
   "cell_type": "code",
   "execution_count": 17,
   "id": "f17b5a7c",
   "metadata": {},
   "outputs": [],
   "source": [
    "# Localizamos los valores de pctUrban mayores que 10 y menores que 90\n",
    "# Eliminamos estas filas del dataframe\n",
    "diabetes.drop(index = price_outliers_index, inplace = True)"
   ]
  },
  {
   "cell_type": "code",
   "execution_count": 18,
   "id": "906601b4",
   "metadata": {},
   "outputs": [
    {
     "name": "stdout",
     "output_type": "stream",
     "text": [
      "Original dataset shape 710\n",
      "Resample dataset shape 936\n"
     ]
    },
    {
     "data": {
      "text/html": [
       "<div>\n",
       "<style scoped>\n",
       "    .dataframe tbody tr th:only-of-type {\n",
       "        vertical-align: middle;\n",
       "    }\n",
       "\n",
       "    .dataframe tbody tr th {\n",
       "        vertical-align: top;\n",
       "    }\n",
       "\n",
       "    .dataframe thead th {\n",
       "        text-align: right;\n",
       "    }\n",
       "</style>\n",
       "<table border=\"1\" class=\"dataframe\">\n",
       "  <thead>\n",
       "    <tr style=\"text-align: right;\">\n",
       "      <th></th>\n",
       "      <th>PREGNANT</th>\n",
       "      <th>GLUCOSE</th>\n",
       "      <th>BLOODPRESS</th>\n",
       "      <th>SKINTHICKNESS</th>\n",
       "      <th>INSULIN</th>\n",
       "      <th>BODYMASSINDEX</th>\n",
       "      <th>PEDIGREEFUNC</th>\n",
       "      <th>AGE</th>\n",
       "    </tr>\n",
       "  </thead>\n",
       "  <tbody>\n",
       "    <tr>\n",
       "      <th>count</th>\n",
       "      <td>936.000000</td>\n",
       "      <td>936.000000</td>\n",
       "      <td>936.000000</td>\n",
       "      <td>936.000000</td>\n",
       "      <td>936.000000</td>\n",
       "      <td>936.000000</td>\n",
       "      <td>936.000000</td>\n",
       "      <td>936.000000</td>\n",
       "    </tr>\n",
       "    <tr>\n",
       "      <th>mean</th>\n",
       "      <td>4.036325</td>\n",
       "      <td>125.423077</td>\n",
       "      <td>72.282051</td>\n",
       "      <td>21.711538</td>\n",
       "      <td>87.519231</td>\n",
       "      <td>32.783196</td>\n",
       "      <td>0.505480</td>\n",
       "      <td>34.042735</td>\n",
       "    </tr>\n",
       "    <tr>\n",
       "      <th>std</th>\n",
       "      <td>3.323030</td>\n",
       "      <td>33.100050</td>\n",
       "      <td>10.725527</td>\n",
       "      <td>15.787564</td>\n",
       "      <td>116.239425</td>\n",
       "      <td>6.107129</td>\n",
       "      <td>0.328698</td>\n",
       "      <td>11.302656</td>\n",
       "    </tr>\n",
       "    <tr>\n",
       "      <th>min</th>\n",
       "      <td>0.000000</td>\n",
       "      <td>0.000000</td>\n",
       "      <td>40.000000</td>\n",
       "      <td>0.000000</td>\n",
       "      <td>0.000000</td>\n",
       "      <td>18.200000</td>\n",
       "      <td>0.078000</td>\n",
       "      <td>21.000000</td>\n",
       "    </tr>\n",
       "    <tr>\n",
       "      <th>25%</th>\n",
       "      <td>1.000000</td>\n",
       "      <td>102.000000</td>\n",
       "      <td>64.000000</td>\n",
       "      <td>0.000000</td>\n",
       "      <td>0.000000</td>\n",
       "      <td>28.675000</td>\n",
       "      <td>0.261000</td>\n",
       "      <td>25.000000</td>\n",
       "    </tr>\n",
       "    <tr>\n",
       "      <th>50%</th>\n",
       "      <td>3.000000</td>\n",
       "      <td>122.000000</td>\n",
       "      <td>72.000000</td>\n",
       "      <td>25.000000</td>\n",
       "      <td>49.000000</td>\n",
       "      <td>32.800000</td>\n",
       "      <td>0.418000</td>\n",
       "      <td>31.000000</td>\n",
       "    </tr>\n",
       "    <tr>\n",
       "      <th>75%</th>\n",
       "      <td>6.000000</td>\n",
       "      <td>147.000000</td>\n",
       "      <td>80.000000</td>\n",
       "      <td>33.000000</td>\n",
       "      <td>148.000000</td>\n",
       "      <td>36.588111</td>\n",
       "      <td>0.674000</td>\n",
       "      <td>41.000000</td>\n",
       "    </tr>\n",
       "    <tr>\n",
       "      <th>max</th>\n",
       "      <td>17.000000</td>\n",
       "      <td>199.000000</td>\n",
       "      <td>104.000000</td>\n",
       "      <td>99.000000</td>\n",
       "      <td>846.000000</td>\n",
       "      <td>50.000000</td>\n",
       "      <td>2.329000</td>\n",
       "      <td>81.000000</td>\n",
       "    </tr>\n",
       "  </tbody>\n",
       "</table>\n",
       "</div>"
      ],
      "text/plain": [
       "         PREGNANT     GLUCOSE  BLOODPRESS  SKINTHICKNESS     INSULIN  \\\n",
       "count  936.000000  936.000000  936.000000     936.000000  936.000000   \n",
       "mean     4.036325  125.423077   72.282051      21.711538   87.519231   \n",
       "std      3.323030   33.100050   10.725527      15.787564  116.239425   \n",
       "min      0.000000    0.000000   40.000000       0.000000    0.000000   \n",
       "25%      1.000000  102.000000   64.000000       0.000000    0.000000   \n",
       "50%      3.000000  122.000000   72.000000      25.000000   49.000000   \n",
       "75%      6.000000  147.000000   80.000000      33.000000  148.000000   \n",
       "max     17.000000  199.000000  104.000000      99.000000  846.000000   \n",
       "\n",
       "       BODYMASSINDEX  PEDIGREEFUNC         AGE  \n",
       "count     936.000000    936.000000  936.000000  \n",
       "mean       32.783196      0.505480   34.042735  \n",
       "std         6.107129      0.328698   11.302656  \n",
       "min        18.200000      0.078000   21.000000  \n",
       "25%        28.675000      0.261000   25.000000  \n",
       "50%        32.800000      0.418000   31.000000  \n",
       "75%        36.588111      0.674000   41.000000  \n",
       "max        50.000000      2.329000   81.000000  "
      ]
     },
     "execution_count": 18,
     "metadata": {},
     "output_type": "execute_result"
    }
   ],
   "source": [
    "# import library\n",
    "from imblearn.over_sampling import SMOTE\n",
    "smote = SMOTE()\n",
    "\n",
    "x = diabetes.loc[:, diabetes.columns != 'DIABETES']\n",
    "y = diabetes.DIABETES\n",
    "# fit predictor and target variable\n",
    "x_smote, y_smote = smote.fit_resample(x, y)\n",
    "print('Original dataset shape', len(y))\n",
    "print('Resample dataset shape', len(y_smote))\n",
    "diabetes_new = x_smote\n",
    "diabetes_new['DIABETES']=y_smote\n",
    "diabetes_new.describe()"
   ]
  },
  {
   "cell_type": "code",
   "execution_count": 19,
   "id": "e998a548",
   "metadata": {},
   "outputs": [
    {
     "data": {
      "text/plain": [
       "0     187\n",
       "7       2\n",
       "8       2\n",
       "10      5\n",
       "11      6\n",
       "12      7\n",
       "13     11\n",
       "14      6\n",
       "15     14\n",
       "16      6\n",
       "17     14\n",
       "18     19\n",
       "19     17\n",
       "20     13\n",
       "21     10\n",
       "22     16\n",
       "23     18\n",
       "24     11\n",
       "25     16\n",
       "26     16\n",
       "27     23\n",
       "28     20\n",
       "29     17\n",
       "30     26\n",
       "31     18\n",
       "32     31\n",
       "33     19\n",
       "34      8\n",
       "35     14\n",
       "36     14\n",
       "37     15\n",
       "38      6\n",
       "39     18\n",
       "40     16\n",
       "41     15\n",
       "42     10\n",
       "43      6\n",
       "44      5\n",
       "45      6\n",
       "46      6\n",
       "47      4\n",
       "48      4\n",
       "49      3\n",
       "50      3\n",
       "51      1\n",
       "52      2\n",
       "54      2\n",
       "60      1\n",
       "99      1\n",
       "Name: SKINTHICKNESS, dtype: int64"
      ]
     },
     "execution_count": 19,
     "metadata": {},
     "output_type": "execute_result"
    }
   ],
   "source": [
    "diabetes.SKINTHICKNESS.value_counts().sort_index()"
   ]
  },
  {
   "cell_type": "code",
   "execution_count": 20,
   "id": "99c965eb",
   "metadata": {
    "scrolled": true
   },
   "outputs": [
    {
     "data": {
      "image/png": "[encoded data removed]",
      "text/plain": [
       "<Figure size 432x288 with 1 Axes>"
      ]
     },
     "metadata": {
      "needs_background": "light"
     },
     "output_type": "display_data"
    }
   ],
   "source": [
    "ax = diabetes_new.loc[:, \"SKINTHICKNESS\"].plot.box()"
   ]
  },
  {
   "cell_type": "code",
   "execution_count": 21,
   "id": "3cabff0f",
   "metadata": {},
   "outputs": [
    {
     "name": "stdout",
     "output_type": "stream",
     "text": [
      "Rango intercuartílico: 33.0\n",
      "Lower and upper outlier limits: -49.5 ,  82.5\n",
      "The outliers are 1\n"
     ]
    },
    {
     "ename": "NameError",
     "evalue": "name 'price_outliers' is not defined",
     "output_type": "error",
     "traceback": [
      "\u001b[1;31m---------------------------------------------------------------------------\u001b[0m",
      "\u001b[1;31mNameError\u001b[0m                                 Traceback (most recent call last)",
      "Input \u001b[1;32mIn [21]\u001b[0m, in \u001b[0;36m<cell line: 18>\u001b[1;34m()\u001b[0m\n\u001b[0;32m     14\u001b[0m price_outliers_index \u001b[38;5;241m=\u001b[39m diabetes\u001b[38;5;241m.\u001b[39mloc[(diabetes\u001b[38;5;241m.\u001b[39mSKINTHICKNESS \u001b[38;5;241m<\u001b[39m cut_low) \u001b[38;5;241m|\u001b[39m (diabetes\u001b[38;5;241m.\u001b[39mSKINTHICKNESS \u001b[38;5;241m>\u001b[39m cut_high)]\u001b[38;5;241m.\u001b[39mindex\n\u001b[0;32m     16\u001b[0m \u001b[38;5;28mprint\u001b[39m(\u001b[38;5;124m\"\u001b[39m\u001b[38;5;124mThe outliers are\u001b[39m\u001b[38;5;124m\"\u001b[39m, \u001b[38;5;28mlen\u001b[39m(price_outliers_index))\n\u001b[1;32m---> 18\u001b[0m \u001b[43mprice_outliers\u001b[49m\n",
      "\u001b[1;31mNameError\u001b[0m: name 'price_outliers' is not defined"
     ]
    }
   ],
   "source": [
    "# QUITAMOS LOS OTLIERS DE BODYMASSINDEX\n",
    "price_iqr = stats.iqr(diabetes.SKINTHICKNESS)\n",
    "print(f\"Rango intercuartílico: {price_iqr}\")\n",
    "# Para localizar el primer y tercer cuartil.\n",
    "price_q1, price_q3 = np.quantile(diabetes.SKINTHICKNESS, [0.25, 0.75])\n",
    "\n",
    "# Limites de los valores atípicos\n",
    "cut_low = price_q1 - 1.5 * price_iqr\n",
    "cut_high = price_q3 + 1.5 * price_iqr\n",
    "\n",
    "print(\"Lower and upper outlier limits:\", cut_low, \", \", cut_high)\n",
    "\n",
    "# Obtenemos de nuestro dataset todos los valores atípicos segun los limites calculados\n",
    "price_outliers_index = diabetes.loc[(diabetes.SKINTHICKNESS < cut_low) | (diabetes.SKINTHICKNESS > cut_high)].index\n",
    "\n",
    "print(\"The outliers are\", len(price_outliers_index))\n",
    "\n",
    "price_outliers"
   ]
  },
  {
   "cell_type": "code",
   "execution_count": null,
   "id": "25f04dde",
   "metadata": {},
   "outputs": [],
   "source": [
    "# QUITAMOS LOS OTLIERS DE BODYMASSINDEX\n",
    "var_iqr = stats.iqr(diabetes.SKINTHICKNESS)\n",
    "# Para localizar el primer y tercer cuartil.\n",
    "var_q1, var_q3 = np.quantile(diabetes.SKINTHICKNESS, [0.25, 0.75])\n",
    "\n",
    "# Limites de los valores atípicos\n",
    "cut_low = var_q1 - 1.5 * var_iqr\n",
    "cut_high = var_q3 + 1.5 * var_iqr\n",
    "\n",
    "print(\"Lower and upper outlier limits:\", cut_low, \", \", cut_high)\n",
    "\n",
    "# Obtenemos de nuestro dataset todos los valores atípicos segun los limites calculados\n",
    "var_outliers_index = diabetes.loc[(diabetes.SKINTHICKNESS < cut_low) | (diabetes.SKINTHICKNESS > cut_high)].index\n",
    "\n",
    "# Localizamos los valores de los outliers\n",
    "# Eliminamos estas filas del dataframe\n",
    "diabetes.drop(index = var_outliers_index, inplace = True)"
   ]
  },
  {
   "cell_type": "code",
   "execution_count": 22,
   "id": "60849e9a",
   "metadata": {},
   "outputs": [
    {
     "data": {
      "image/png": "[encoded data removed]",
      "text/plain": [
       "<Figure size 432x288 with 1 Axes>"
      ]
     },
     "metadata": {
      "needs_background": "light"
     },
     "output_type": "display_data"
    }
   ],
   "source": [
    "# stat = density --> para normalizar el eje y, el area total suma 1 (rel_freq)\n",
    "dens_plot = sns.histplot(data = diabetes_new, x = 'BLOODPRESS', kde=True)#, stat='density')\n",
    "# Editamos el color y grosor de la curva de densidad\n",
    "dens_plot.lines[0].set_color('red')\n",
    "dens_plot.lines[0].set_linewidth(3)"
   ]
  },
  {
   "cell_type": "code",
   "execution_count": 23,
   "id": "9a774165",
   "metadata": {},
   "outputs": [
    {
     "name": "stdout",
     "output_type": "stream",
     "text": [
      "Requirement already satisfied: imblearn in c:\\users\\marti\\anaconda3\\envs\\ml\\lib\\site-packages (0.0)\n",
      "Requirement already satisfied: imbalanced-learn in c:\\users\\marti\\anaconda3\\envs\\ml\\lib\\site-packages (from imblearn) (0.9.1)\n",
      "Requirement already satisfied: scikit-learn>=1.1.0 in c:\\users\\marti\\anaconda3\\envs\\ml\\lib\\site-packages (from imbalanced-learn->imblearn) (1.1.2)\n",
      "Requirement already satisfied: numpy>=1.17.3 in c:\\users\\marti\\anaconda3\\envs\\ml\\lib\\site-packages (from imbalanced-learn->imblearn) (1.22.4)\n",
      "Requirement already satisfied: joblib>=1.0.0 in c:\\users\\marti\\anaconda3\\envs\\ml\\lib\\site-packages (from imbalanced-learn->imblearn) (1.1.0)\n",
      "Requirement already satisfied: scipy>=1.3.2 in c:\\users\\marti\\anaconda3\\envs\\ml\\lib\\site-packages (from imbalanced-learn->imblearn) (1.7.3)\n",
      "Requirement already satisfied: threadpoolctl>=2.0.0 in c:\\users\\marti\\anaconda3\\envs\\ml\\lib\\site-packages (from imbalanced-learn->imblearn) (3.1.0)\n"
     ]
    }
   ],
   "source": [
    "! pip install imblearn"
   ]
  },
  {
   "cell_type": "code",
   "execution_count": null,
   "id": "707fa33c",
   "metadata": {},
   "outputs": [],
   "source": [
    "### Load necessary modules -------------------------------\n",
    "# interactive plotting\n",
    "%matplotlib inline\n",
    "%config InlineBackend.figure_format = 'svg' # ‘png’, ‘retina’, ‘jpeg’, ‘svg’, ‘pdf’\n",
    "\n",
    "# plotting libraries\n",
    "import seaborn as sns\n",
    "import matplotlib.pyplot as plt\n",
    "sns.set()\n",
    "\n",
    "# Data management libraries\n",
    "import numpy as np # linear algebra\n",
    "import pandas as pd # data processing, CSV file I/O (e.g. pd.read_csv)\n",
    "\n",
    "# Machine learning libraries\n",
    "from sklearn.tree import DecisionTreeClassifier, plot_tree\n",
    "from sklearn.ensemble import RandomForestClassifier\n",
    "from sklearn.pipeline import Pipeline\n",
    "from sklearn.preprocessing import StandardScaler\n",
    "from sklearn.model_selection import train_test_split, GridSearchCV, cross_val_score\n",
    "\n",
    "# others\n",
    "from mltools import classification_tools as CT\n",
    "from mltools import model_tools as MT"
   ]
  },
  {
   "cell_type": "code",
   "execution_count": null,
   "id": "b7750a06",
   "metadata": {},
   "outputs": [],
   "source": [
    "# ARBOL DE DECISION PARA VER LA IMPORTANCIA DE LAS VARIABLES\n",
    "# Define input and output matrices\n",
    "INPUTS = ['PREGNANT','GLUCOSE','BLOODPRESS','SKINTHICKNESS','INSULIN','BODYMASSINDEX','PEDIGREEFUNC','AGE']\n",
    "OUTPUT = 'DIABETES'\n",
    "X = diabetes_new[INPUTS]\n",
    "y = diabetes_new[OUTPUT]\n",
    "\n",
    " \n",
    "\n",
    "# Split\n",
    "X_train, X_test, y_train, y_test = train_test_split(X, y,\n",
    "                                                    test_size=0.2,  #percentage of test data 20%\n",
    "                                                    random_state=0, #seed for replication, es para que me salga la =\n",
    "                                                    stratify = y)   #Preserves distribution of y\n"
   ]
  },
  {
   "cell_type": "code",
   "execution_count": null,
   "id": "bc1cff84",
   "metadata": {},
   "outputs": [],
   "source": [
    "## Create dataset to store model predictions\n",
    "dfTR_eval = X_train.copy()\n",
    "dfTR_eval['Y'] = y_train # We will call Y as output variable for simplicity\n",
    "dfTS_eval = X_test.copy()\n",
    "dfTS_eval['Y'] = y_test # We will call Y as output variable for simplicity>"
   ]
  },
  {
   "cell_type": "code",
   "execution_count": null,
   "id": "34e80873",
   "metadata": {},
   "outputs": [],
   "source": [
    "#-------------------------------------------------------------------------------------------------\n",
    "#---------------------------- DECISION TREE MODEL ------------------------------------------------\n",
    "#-------------------------------------------------------------------------------------------------\n",
    "## Inputs of the model. Change accordingly to perform variable selection\n",
    "INPUTS_DT = INPUTS\n",
    "\n",
    "param = {'DT__min_impurity_decrease': np.arange(0,0.05,0.005)} # Minimum entropy to decrease in each split. Valor que vamos a usar para la validación cruzada. Los porcentajes de mejora varían en funcion del problema\n",
    "pipe = Pipeline(steps=[('scaler', StandardScaler()), \n",
    "                       ('DT', DecisionTreeClassifier(criterion='gini',  # impuriry measure\n",
    "                                                     min_samples_split=5, # Minimum number of obs in node to keep cutting. minimo numero de muestras en un split\n",
    "                                                     min_samples_leaf=5, # Minimum number of obs in a terminal node. minimo numero de muestras en un nodo terminal.\n",
    "                                                     random_state=150))]) # For replication\n",
    "\n",
    "# We use Grid Search Cross Validation to find the best parameter for the model in the grid defined \n",
    "nFolds = 10\n",
    "# el arbol lo vamos a obtener mediante grid search\n",
    "tree_fit = GridSearchCV(estimator=pipe, # Structure of the model to use\n",
    "                       param_grid=param, # Defined grid to search in\n",
    "                       n_jobs=-1, # Number of cores to use (parallelize)\n",
    "                       scoring='accuracy', # Accuracy https://scikit-learn.org/stable/modules/model_evaluation.html\n",
    "                       cv=nFolds) # Number of Folds \n",
    "tree_fit.fit(X_train[INPUTS_DT], y_train) # Search in grid"
   ]
  },
  {
   "cell_type": "code",
   "execution_count": null,
   "id": "df354a4e",
   "metadata": {},
   "outputs": [],
   "source": [
    "MT.plotModelGridError(tree_fit)"
   ]
  },
  {
   "cell_type": "code",
   "execution_count": null,
   "id": "f1d8402f",
   "metadata": {},
   "outputs": [],
   "source": [
    "## Plot the decision tree model\n",
    "plt.figure(figsize=(12, 12))\n",
    "plot_tree(tree_fit.best_estimator_['DT'], filled=True)\n",
    "plt.show()\n",
    "\n",
    "# si yo antes he escalado las variables (con el scaler), el arbol va a cortar por las variables normalizadas.\n",
    "# Si quiero ver el valor real, debería quitar el escalado."
   ]
  },
  {
   "cell_type": "code",
   "execution_count": null,
   "id": "372c51f2",
   "metadata": {},
   "outputs": [],
   "source": [
    "## Plot the variable importance of each feature\n",
    "plt.figure(figsize=(6 * 1.618, 6))\n",
    "index = np.arange(len(X_train[INPUTS_DT].columns))\n",
    "bar_width = 0.35\n",
    "plt.bar(index, tree_fit.best_estimator_['DT'].feature_importances_, color='black', alpha=0.5)\n",
    "plt.xlabel('features')\n",
    "plt.ylabel('importance')\n",
    "plt.title('Feature importance')\n",
    "plt.xticks(index, X_train[INPUTS_DT].columns)\n",
    "plt.tight_layout()\n",
    "plt.show()"
   ]
  },
  {
   "cell_type": "code",
   "execution_count": null,
   "id": "da105e67",
   "metadata": {},
   "outputs": [],
   "source": [
    "##  Obtain a report of the model based on predictions ---------------------------------------------\n",
    "dfTR_eval['Y_DT_pred'] = tree_fit.predict(X_train[INPUTS_DT])\n",
    "dfTR_eval['Y_DT_prob_neg'] = tree_fit.predict_proba(X_train[INPUTS_DT])[:,0]\n",
    "dfTR_eval['Y_DT_prob_pos'] = tree_fit.predict_proba(X_train[INPUTS_DT])[:,1]\n",
    "### Scale test using preprocess in training\n",
    "dfTS_eval['Y_DT_pred'] = tree_fit.predict(X_test[INPUTS_DT])\n",
    "dfTS_eval['Y_DT_prob_neg'] = tree_fit.predict_proba(X_test[INPUTS_DT])[:,0]\n",
    "dfTS_eval['Y_DT_prob_pos'] = tree_fit.predict_proba(X_test[INPUTS_DT])[:,1]\n",
    "\n",
    "#visualize evaluated data\n",
    "dfTR_eval.head()\n",
    "CT.plot2DClass(X_train[INPUTS_DT], dfTR_eval['Y'], tree_fit, 'GLUCOSE', 'BODYMASSINDEX', '0', 50)\n",
    "dfTR_eval.head()"
   ]
  },
  {
   "cell_type": "code",
   "execution_count": null,
   "id": "e518bda1",
   "metadata": {},
   "outputs": [],
   "source": [
    "CT.confusion_matrix(dfTR_eval['Y'], dfTR_eval['Y_DT_pred'],labels=['1','0'])"
   ]
  }
 ],
 "metadata": {
  "kernelspec": {
   "display_name": "Python 3 (ipykernel)",
   "language": "python",
   "name": "python3"
  },
  "language_info": {
   "codemirror_mode": {
    "name": "ipython",
    "version": 3
   },
   "file_extension": ".py",
   "mimetype": "text/x-python",
   "name": "python",
   "nbconvert_exporter": "python",
   "pygments_lexer": "ipython3",
   "version": "3.10.4"
  }
 },
 "nbformat": 4,
 "nbformat_minor": 5
}
